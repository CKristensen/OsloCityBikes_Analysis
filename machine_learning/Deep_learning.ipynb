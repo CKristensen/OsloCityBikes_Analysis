{
  "nbformat": 4,
  "nbformat_minor": 0,
  "metadata": {
    "colab": {
      "name": "Deep_learning.ipynb",
      "provenance": [],
      "collapsed_sections": [],
      "authorship_tag": "ABX9TyPSjuU35PTTponUDRdOSA/4",
      "include_colab_link": true
    },
    "kernelspec": {
      "name": "python3",
      "display_name": "Python 3"
    }
  },
  "cells": [
    {
      "cell_type": "markdown",
      "metadata": {
        "id": "view-in-github",
        "colab_type": "text"
      },
      "source": [
        "<a href=\"https://colab.research.google.com/github/CKristensen/OsloCityBikes_Analysis/blob/master/machine_learning/Deep_learning.ipynb\" target=\"_parent\"><img src=\"https://colab.research.google.com/assets/colab-badge.svg\" alt=\"Open In Colab\"/></a>"
      ]
    },
    {
      "cell_type": "code",
      "metadata": {
        "id": "-g5WKbbIRW-J"
      },
      "source": [
        "import os\n",
        "import psycopg2\n",
        "import requests\n",
        "import pandas as pd\n",
        "from sqlalchemy import create_engine\n",
        "import numpy as np\n",
        "import time\n",
        "import io\n",
        "import xgboost as xgb\n",
        "from xgboost import plot_importance, plot_tree\n",
        "from sklearn.metrics import mean_squared_error, mean_absolute_error\n",
        "from sklearn.preprocessing import OneHotEncoder, StandardScaler, MinMaxScaler\n",
        "from itertools import product\n",
        "from sklearn.preprocessing import LabelEncoder\n",
        "\n",
        "import seaborn as sns\n",
        "import matplotlib.pyplot as plt\n",
        "%matplotlib inline\n",
        "\n",
        "import tensorflow as tf\n",
        "tf.executing_eagerly()\n",
        "\n",
        "from tensorflow.keras.layers import Dense, Input, Flatten, LSTM, Dropout\n",
        "from tensorflow.keras.models import Model, Sequential\n",
        "from tensorflow.keras.layers import Conv2D, MaxPool2D, BatchNormalization\n",
        "from tensorflow.keras.layers import concatenate"
      ],
      "execution_count": null,
      "outputs": []
    },
    {
      "cell_type": "code",
      "metadata": {
        "id": "FB8_TW9iRYEb",
        "outputId": "7629bb3e-4d4f-4caa-bc91-a2ee0c1f2a0a",
        "colab": {
          "base_uri": "https://localhost:8080/",
          "height": 890
        }
      },
      "source": [
        "# Database variabler\n",
        "PASS = \"password\"\n",
        "USER_NAME = \"username\"\n",
        "HOST = \"host-address\"\n",
        "DATABASE = \"database\"\n",
        "\n",
        "# Create engine:\n",
        "engine = create_engine(f'postgresql+psycopg2://{USER_NAME}:{PASS}@{HOST}/{DATABASE}')\n",
        "\n",
        "# SQL query:\n",
        "sql= '''select s.station_key,s.military_hour,s.trips_started,s.trips_ended, s.trips_ended+s.trips_started as all_trips,\n",
        "s.air_temperatur_celsius, s.precipitation_mm, s.wind_speed_ms, s.date_actual, s.day_of_week, s.day_name, \n",
        "s.month_actual, s.day_of_month, s.quarter_actual, s.day_of_year, s.is_holiday, s.is_strike \n",
        "from star_old.stationtripslast s\n",
        "where date_actual>='2019-04-01';'''\n",
        "\n",
        "# Read in data from query to df\n",
        "df_features= pd.read_sql_query(sql, engine, index_col=None)\n",
        "\n",
        "# View all columns!\n",
        "pd.set_option('display.max_columns', None)\n",
        "\n",
        "# Make station_key numeric for easier merge later\n",
        "df_features['station_key']=pd.to_numeric(df_features['station_key'])\n",
        "\n",
        "print(df_features.head(5))\n",
        "print(df_features.info())"
      ],
      "execution_count": null,
      "outputs": [
        {
          "output_type": "stream",
          "text": [
            "   station_key  military_hour  trips_started  trips_ended  all_trips  \\\n",
            "0          509              1              0            0          0   \n",
            "1          510              1              0            0          0   \n",
            "2          511              1              0            0          0   \n",
            "3          512              1              0            0          0   \n",
            "4          513              1              0            0          0   \n",
            "\n",
            "   air_temperatur_celsius  precipitation_mm  wind_speed_ms date_actual  \\\n",
            "0                     1.6               0.0            1.8  2019-04-02   \n",
            "1                     1.6               0.0            1.8  2019-04-02   \n",
            "2                     1.6               0.0            1.8  2019-04-02   \n",
            "3                     1.6               0.0            1.8  2019-04-02   \n",
            "4                     1.6               0.0            1.8  2019-04-02   \n",
            "\n",
            "   day_of_week   day_name  month_actual  day_of_month  quarter_actual  \\\n",
            "0            2  Tuesday               4             2               2   \n",
            "1            2  Tuesday               4             2               2   \n",
            "2            2  Tuesday               4             2               2   \n",
            "3            2  Tuesday               4             2               2   \n",
            "4            2  Tuesday               4             2               2   \n",
            "\n",
            "   day_of_year  is_holiday  is_strike  \n",
            "0           92           0          0  \n",
            "1           92           0          0  \n",
            "2           92           0          0  \n",
            "3           92           0          0  \n",
            "4           92           0          0  \n",
            "<class 'pandas.core.frame.DataFrame'>\n",
            "RangeIndex: 3485664 entries, 0 to 3485663\n",
            "Data columns (total 17 columns):\n",
            " #   Column                  Dtype  \n",
            "---  ------                  -----  \n",
            " 0   station_key             int64  \n",
            " 1   military_hour           int64  \n",
            " 2   trips_started           int64  \n",
            " 3   trips_ended             int64  \n",
            " 4   all_trips               int64  \n",
            " 5   air_temperatur_celsius  float64\n",
            " 6   precipitation_mm        float64\n",
            " 7   wind_speed_ms           float64\n",
            " 8   date_actual             object \n",
            " 9   day_of_week             int64  \n",
            " 10  day_name                object \n",
            " 11  month_actual            int64  \n",
            " 12  day_of_month            int64  \n",
            " 13  quarter_actual          int64  \n",
            " 14  day_of_year             int64  \n",
            " 15  is_holiday              int64  \n",
            " 16  is_strike               int64  \n",
            "dtypes: float64(3), int64(12), object(2)\n",
            "memory usage: 452.1+ MB\n",
            "None\n"
          ],
          "name": "stdout"
        }
      ]
    },
    {
      "cell_type": "code",
      "metadata": {
        "id": "uhVa3h-mRX9D",
        "outputId": "aa7b09f5-30c5-4554-b1ae-b140ed809ef5",
        "colab": {
          "base_uri": "https://localhost:8080/",
          "height": 106
        }
      },
      "source": [
        "ele=pd.read_csv('/elevation.csv')\n",
        "ele=ele.rename(columns={'new':'station_key'})\n",
        "ele.head(2)"
      ],
      "execution_count": null,
      "outputs": [
        {
          "output_type": "execute_result",
          "data": {
            "text/html": [
              "<div>\n",
              "<style scoped>\n",
              "    .dataframe tbody tr th:only-of-type {\n",
              "        vertical-align: middle;\n",
              "    }\n",
              "\n",
              "    .dataframe tbody tr th {\n",
              "        vertical-align: top;\n",
              "    }\n",
              "\n",
              "    .dataframe thead th {\n",
              "        text-align: right;\n",
              "    }\n",
              "</style>\n",
              "<table border=\"1\" class=\"dataframe\">\n",
              "  <thead>\n",
              "    <tr style=\"text-align: right;\">\n",
              "      <th></th>\n",
              "      <th>station_key</th>\n",
              "      <th>station_name</th>\n",
              "      <th>description</th>\n",
              "      <th>latitude_y</th>\n",
              "      <th>longitude_y</th>\n",
              "      <th>elevation_x</th>\n",
              "    </tr>\n",
              "  </thead>\n",
              "  <tbody>\n",
              "    <tr>\n",
              "      <th>0</th>\n",
              "      <td>769</td>\n",
              "      <td>NaN</td>\n",
              "      <td>NaN</td>\n",
              "      <td>59.915553</td>\n",
              "      <td>10.751323</td>\n",
              "      <td>22.833595</td>\n",
              "    </tr>\n",
              "    <tr>\n",
              "      <th>1</th>\n",
              "      <td>767</td>\n",
              "      <td>NaN</td>\n",
              "      <td>NaN</td>\n",
              "      <td>59.918217</td>\n",
              "      <td>10.756065</td>\n",
              "      <td>16.531841</td>\n",
              "    </tr>\n",
              "  </tbody>\n",
              "</table>\n",
              "</div>"
            ],
            "text/plain": [
              "   station_key station_name description  latitude_y  longitude_y  elevation_x\n",
              "0          769          NaN         NaN   59.915553    10.751323    22.833595\n",
              "1          767          NaN         NaN   59.918217    10.756065    16.531841"
            ]
          },
          "metadata": {
            "tags": []
          },
          "execution_count": 53
        }
      ]
    },
    {
      "cell_type": "code",
      "metadata": {
        "id": "CigbXvDCRXzO",
        "outputId": "a6636a27-8d10-480e-9c17-1fba093098a9",
        "colab": {
          "base_uri": "https://localhost:8080/",
          "height": 758
        }
      },
      "source": [
        "df_merge= pd.merge(df_features,ele[['station_key','elevation_x']], on='station_key',how='left')\n",
        "\n",
        "# Turning elevation back to string:\n",
        "df_features['station_key']=df_features['station_key'].astype(str)\n",
        "\n",
        "\n",
        "# Checking first and last date:\n",
        "print(df_merge['date_actual'].min())\n",
        "print(df_merge['date_actual'].max())\n",
        "\n",
        "# Checking for null-values:\n",
        "df_merge.isna().sum()\n",
        "\n",
        "# Filling null-values by sea-level at 10m\n",
        "df_merge['elevation_x']=df_merge['elevation_x'].fillna(10)\n",
        "\n",
        "\n",
        "# Info\n",
        "df_merge.head(5)\n",
        "df_merge.info()\n",
        "df_merge.describe()\n"
      ],
      "execution_count": null,
      "outputs": [
        {
          "output_type": "stream",
          "text": [
            "2019-04-02\n",
            "2020-09-30\n",
            "<class 'pandas.core.frame.DataFrame'>\n",
            "Int64Index: 3485664 entries, 0 to 3485663\n",
            "Data columns (total 18 columns):\n",
            " #   Column                  Dtype  \n",
            "---  ------                  -----  \n",
            " 0   station_key             int64  \n",
            " 1   military_hour           int64  \n",
            " 2   trips_started           int64  \n",
            " 3   trips_ended             int64  \n",
            " 4   all_trips               int64  \n",
            " 5   air_temperatur_celsius  float64\n",
            " 6   precipitation_mm        float64\n",
            " 7   wind_speed_ms           float64\n",
            " 8   date_actual             object \n",
            " 9   day_of_week             int64  \n",
            " 10  day_name                object \n",
            " 11  month_actual            int64  \n",
            " 12  day_of_month            int64  \n",
            " 13  quarter_actual          int64  \n",
            " 14  day_of_year             int64  \n",
            " 15  is_holiday              int64  \n",
            " 16  is_strike               int64  \n",
            " 17  elevation_x             float64\n",
            "dtypes: float64(4), int64(12), object(2)\n",
            "memory usage: 505.3+ MB\n"
          ],
          "name": "stdout"
        },
        {
          "output_type": "execute_result",
          "data": {
            "text/html": [
              "<div>\n",
              "<style scoped>\n",
              "    .dataframe tbody tr th:only-of-type {\n",
              "        vertical-align: middle;\n",
              "    }\n",
              "\n",
              "    .dataframe tbody tr th {\n",
              "        vertical-align: top;\n",
              "    }\n",
              "\n",
              "    .dataframe thead th {\n",
              "        text-align: right;\n",
              "    }\n",
              "</style>\n",
              "<table border=\"1\" class=\"dataframe\">\n",
              "  <thead>\n",
              "    <tr style=\"text-align: right;\">\n",
              "      <th></th>\n",
              "      <th>station_key</th>\n",
              "      <th>military_hour</th>\n",
              "      <th>trips_started</th>\n",
              "      <th>trips_ended</th>\n",
              "      <th>all_trips</th>\n",
              "      <th>air_temperatur_celsius</th>\n",
              "      <th>precipitation_mm</th>\n",
              "      <th>wind_speed_ms</th>\n",
              "      <th>day_of_week</th>\n",
              "      <th>month_actual</th>\n",
              "      <th>day_of_month</th>\n",
              "      <th>quarter_actual</th>\n",
              "      <th>day_of_year</th>\n",
              "      <th>is_holiday</th>\n",
              "      <th>is_strike</th>\n",
              "      <th>elevation_x</th>\n",
              "    </tr>\n",
              "  </thead>\n",
              "  <tbody>\n",
              "    <tr>\n",
              "      <th>count</th>\n",
              "      <td>3.485664e+06</td>\n",
              "      <td>3.485664e+06</td>\n",
              "      <td>3.485664e+06</td>\n",
              "      <td>3.485664e+06</td>\n",
              "      <td>3.485664e+06</td>\n",
              "      <td>3.485664e+06</td>\n",
              "      <td>3.485664e+06</td>\n",
              "      <td>3.485664e+06</td>\n",
              "      <td>3.485664e+06</td>\n",
              "      <td>3.485664e+06</td>\n",
              "      <td>3.485664e+06</td>\n",
              "      <td>3.485664e+06</td>\n",
              "      <td>3.485664e+06</td>\n",
              "      <td>3.485664e+06</td>\n",
              "      <td>3.485664e+06</td>\n",
              "      <td>3.485664e+06</td>\n",
              "    </tr>\n",
              "    <tr>\n",
              "      <th>mean</th>\n",
              "      <td>5.383004e+02</td>\n",
              "      <td>1.150000e+01</td>\n",
              "      <td>9.790049e-01</td>\n",
              "      <td>9.790049e-01</td>\n",
              "      <td>1.958010e+00</td>\n",
              "      <td>9.837246e+00</td>\n",
              "      <td>2.675000e+00</td>\n",
              "      <td>2.863036e+00</td>\n",
              "      <td>3.984962e+00</td>\n",
              "      <td>6.515038e+00</td>\n",
              "      <td>1.622744e+01</td>\n",
              "      <td>2.505639e+00</td>\n",
              "      <td>1.834586e+02</td>\n",
              "      <td>1.635338e-01</td>\n",
              "      <td>1.879699e-02</td>\n",
              "      <td>4.606664e+01</td>\n",
              "    </tr>\n",
              "    <tr>\n",
              "      <th>std</th>\n",
              "      <td>1.596601e+02</td>\n",
              "      <td>6.922188e+00</td>\n",
              "      <td>2.226738e+00</td>\n",
              "      <td>2.437601e+00</td>\n",
              "      <td>4.224412e+00</td>\n",
              "      <td>7.187135e+00</td>\n",
              "      <td>4.950238e+00</td>\n",
              "      <td>1.573951e+00</td>\n",
              "      <td>1.997122e+00</td>\n",
              "      <td>2.983312e+00</td>\n",
              "      <td>8.539106e+00</td>\n",
              "      <td>9.567560e-01</td>\n",
              "      <td>9.117491e+01</td>\n",
              "      <td>3.698521e-01</td>\n",
              "      <td>1.358075e-01</td>\n",
              "      <td>2.896764e+01</td>\n",
              "    </tr>\n",
              "    <tr>\n",
              "      <th>min</th>\n",
              "      <td>3.770000e+02</td>\n",
              "      <td>0.000000e+00</td>\n",
              "      <td>0.000000e+00</td>\n",
              "      <td>0.000000e+00</td>\n",
              "      <td>0.000000e+00</td>\n",
              "      <td>-7.450000e+00</td>\n",
              "      <td>0.000000e+00</td>\n",
              "      <td>1.142857e-01</td>\n",
              "      <td>1.000000e+00</td>\n",
              "      <td>1.000000e+00</td>\n",
              "      <td>1.000000e+00</td>\n",
              "      <td>1.000000e+00</td>\n",
              "      <td>2.000000e+00</td>\n",
              "      <td>0.000000e+00</td>\n",
              "      <td>0.000000e+00</td>\n",
              "      <td>2.000000e+00</td>\n",
              "    </tr>\n",
              "    <tr>\n",
              "      <th>25%</th>\n",
              "      <td>4.460000e+02</td>\n",
              "      <td>5.750000e+00</td>\n",
              "      <td>0.000000e+00</td>\n",
              "      <td>0.000000e+00</td>\n",
              "      <td>0.000000e+00</td>\n",
              "      <td>3.914286e+00</td>\n",
              "      <td>0.000000e+00</td>\n",
              "      <td>1.642857e+00</td>\n",
              "      <td>2.000000e+00</td>\n",
              "      <td>4.000000e+00</td>\n",
              "      <td>9.000000e+00</td>\n",
              "      <td>2.000000e+00</td>\n",
              "      <td>1.147500e+02</td>\n",
              "      <td>0.000000e+00</td>\n",
              "      <td>0.000000e+00</td>\n",
              "      <td>2.187105e+01</td>\n",
              "    </tr>\n",
              "    <tr>\n",
              "      <th>50%</th>\n",
              "      <td>5.150000e+02</td>\n",
              "      <td>1.150000e+01</td>\n",
              "      <td>0.000000e+00</td>\n",
              "      <td>0.000000e+00</td>\n",
              "      <td>0.000000e+00</td>\n",
              "      <td>9.900000e+00</td>\n",
              "      <td>2.750000e-01</td>\n",
              "      <td>2.585714e+00</td>\n",
              "      <td>4.000000e+00</td>\n",
              "      <td>7.000000e+00</td>\n",
              "      <td>1.600000e+01</td>\n",
              "      <td>3.000000e+00</td>\n",
              "      <td>1.840000e+02</td>\n",
              "      <td>0.000000e+00</td>\n",
              "      <td>0.000000e+00</td>\n",
              "      <td>4.032841e+01</td>\n",
              "    </tr>\n",
              "    <tr>\n",
              "      <th>75%</th>\n",
              "      <td>5.840000e+02</td>\n",
              "      <td>1.725000e+01</td>\n",
              "      <td>1.000000e+00</td>\n",
              "      <td>1.000000e+00</td>\n",
              "      <td>2.000000e+00</td>\n",
              "      <td>1.540893e+01</td>\n",
              "      <td>3.050000e+00</td>\n",
              "      <td>3.814286e+00</td>\n",
              "      <td>6.000000e+00</td>\n",
              "      <td>9.000000e+00</td>\n",
              "      <td>2.400000e+01</td>\n",
              "      <td>3.000000e+00</td>\n",
              "      <td>2.520000e+02</td>\n",
              "      <td>0.000000e+00</td>\n",
              "      <td>0.000000e+00</td>\n",
              "      <td>6.369722e+01</td>\n",
              "    </tr>\n",
              "    <tr>\n",
              "      <th>max</th>\n",
              "      <td>1.919000e+03</td>\n",
              "      <td>2.300000e+01</td>\n",
              "      <td>1.200000e+02</td>\n",
              "      <td>2.410000e+02</td>\n",
              "      <td>2.640000e+02</td>\n",
              "      <td>3.130000e+01</td>\n",
              "      <td>3.210000e+01</td>\n",
              "      <td>1.194286e+01</td>\n",
              "      <td>7.000000e+00</td>\n",
              "      <td>1.200000e+01</td>\n",
              "      <td>3.100000e+01</td>\n",
              "      <td>4.000000e+00</td>\n",
              "      <td>3.650000e+02</td>\n",
              "      <td>1.000000e+00</td>\n",
              "      <td>1.000000e+00</td>\n",
              "      <td>1.378293e+02</td>\n",
              "    </tr>\n",
              "  </tbody>\n",
              "</table>\n",
              "</div>"
            ],
            "text/plain": [
              "        station_key  military_hour  trips_started   trips_ended     all_trips  \\\n",
              "count  3.485664e+06   3.485664e+06   3.485664e+06  3.485664e+06  3.485664e+06   \n",
              "mean   5.383004e+02   1.150000e+01   9.790049e-01  9.790049e-01  1.958010e+00   \n",
              "std    1.596601e+02   6.922188e+00   2.226738e+00  2.437601e+00  4.224412e+00   \n",
              "min    3.770000e+02   0.000000e+00   0.000000e+00  0.000000e+00  0.000000e+00   \n",
              "25%    4.460000e+02   5.750000e+00   0.000000e+00  0.000000e+00  0.000000e+00   \n",
              "50%    5.150000e+02   1.150000e+01   0.000000e+00  0.000000e+00  0.000000e+00   \n",
              "75%    5.840000e+02   1.725000e+01   1.000000e+00  1.000000e+00  2.000000e+00   \n",
              "max    1.919000e+03   2.300000e+01   1.200000e+02  2.410000e+02  2.640000e+02   \n",
              "\n",
              "       air_temperatur_celsius  precipitation_mm  wind_speed_ms   day_of_week  \\\n",
              "count            3.485664e+06      3.485664e+06   3.485664e+06  3.485664e+06   \n",
              "mean             9.837246e+00      2.675000e+00   2.863036e+00  3.984962e+00   \n",
              "std              7.187135e+00      4.950238e+00   1.573951e+00  1.997122e+00   \n",
              "min             -7.450000e+00      0.000000e+00   1.142857e-01  1.000000e+00   \n",
              "25%              3.914286e+00      0.000000e+00   1.642857e+00  2.000000e+00   \n",
              "50%              9.900000e+00      2.750000e-01   2.585714e+00  4.000000e+00   \n",
              "75%              1.540893e+01      3.050000e+00   3.814286e+00  6.000000e+00   \n",
              "max              3.130000e+01      3.210000e+01   1.194286e+01  7.000000e+00   \n",
              "\n",
              "       month_actual  day_of_month  quarter_actual   day_of_year    is_holiday  \\\n",
              "count  3.485664e+06  3.485664e+06    3.485664e+06  3.485664e+06  3.485664e+06   \n",
              "mean   6.515038e+00  1.622744e+01    2.505639e+00  1.834586e+02  1.635338e-01   \n",
              "std    2.983312e+00  8.539106e+00    9.567560e-01  9.117491e+01  3.698521e-01   \n",
              "min    1.000000e+00  1.000000e+00    1.000000e+00  2.000000e+00  0.000000e+00   \n",
              "25%    4.000000e+00  9.000000e+00    2.000000e+00  1.147500e+02  0.000000e+00   \n",
              "50%    7.000000e+00  1.600000e+01    3.000000e+00  1.840000e+02  0.000000e+00   \n",
              "75%    9.000000e+00  2.400000e+01    3.000000e+00  2.520000e+02  0.000000e+00   \n",
              "max    1.200000e+01  3.100000e+01    4.000000e+00  3.650000e+02  1.000000e+00   \n",
              "\n",
              "          is_strike   elevation_x  \n",
              "count  3.485664e+06  3.485664e+06  \n",
              "mean   1.879699e-02  4.606664e+01  \n",
              "std    1.358075e-01  2.896764e+01  \n",
              "min    0.000000e+00  2.000000e+00  \n",
              "25%    0.000000e+00  2.187105e+01  \n",
              "50%    0.000000e+00  4.032841e+01  \n",
              "75%    0.000000e+00  6.369722e+01  \n",
              "max    1.000000e+00  1.378293e+02  "
            ]
          },
          "metadata": {
            "tags": []
          },
          "execution_count": 54
        }
      ]
    },
    {
      "cell_type": "code",
      "metadata": {
        "id": "d8VZyvNVR4Ih",
        "outputId": "c40fdf64-e074-434c-9eda-80531b0a5ddb",
        "colab": {
          "base_uri": "https://localhost:8080/",
          "height": 118
        }
      },
      "source": [
        "# Adding column saying if it's weekend or not:\n",
        "\n",
        "df_merge['is_weekend']= np.where(df_merge['day_name'].isin(['Sunday','Saturday']),1,0)\n",
        "\n",
        "df_merge['is_weekend'].head(5)"
      ],
      "execution_count": null,
      "outputs": [
        {
          "output_type": "execute_result",
          "data": {
            "text/plain": [
              "0    0\n",
              "1    0\n",
              "2    0\n",
              "3    0\n",
              "4    0\n",
              "Name: is_weekend, dtype: int64"
            ]
          },
          "metadata": {
            "tags": []
          },
          "execution_count": 55
        }
      ]
    },
    {
      "cell_type": "code",
      "metadata": {
        "id": "u4BLmW4EaHPv",
        "outputId": "13980575-497e-4098-cc80-15977478dc43",
        "colab": {
          "base_uri": "https://localhost:8080/",
          "height": 538
        }
      },
      "source": [
        "# OHE av day_name:\n",
        "\n",
        "days_encoder= OneHotEncoder(sparse=False)\n",
        "\n",
        "days= df_merge[['day_name']]\n",
        "print(days.head(10))\n",
        "\n",
        "days_ohe= pd.DataFrame(days_encoder.fit_transform(days))\n",
        "days_ohe.columns = days_encoder.get_feature_names(['day_name'])\n",
        "print(days_ohe.head(5))\n",
        "\n"
      ],
      "execution_count": null,
      "outputs": [
        {
          "output_type": "stream",
          "text": [
            "    day_name\n",
            "0  Tuesday  \n",
            "1  Tuesday  \n",
            "2  Tuesday  \n",
            "3  Tuesday  \n",
            "4  Tuesday  \n",
            "5  Tuesday  \n",
            "6  Tuesday  \n",
            "7  Tuesday  \n",
            "8  Tuesday  \n",
            "9  Tuesday  \n",
            "   day_name_Friday     day_name_Monday     day_name_Saturday   \\\n",
            "0                 0.0                 0.0                 0.0   \n",
            "1                 0.0                 0.0                 0.0   \n",
            "2                 0.0                 0.0                 0.0   \n",
            "3                 0.0                 0.0                 0.0   \n",
            "4                 0.0                 0.0                 0.0   \n",
            "\n",
            "   day_name_Sunday     day_name_Thursday   day_name_Tuesday    \\\n",
            "0                 0.0                 0.0                 1.0   \n",
            "1                 0.0                 0.0                 1.0   \n",
            "2                 0.0                 0.0                 1.0   \n",
            "3                 0.0                 0.0                 1.0   \n",
            "4                 0.0                 0.0                 1.0   \n",
            "\n",
            "   day_name_Wednesday  \n",
            "0                 0.0  \n",
            "1                 0.0  \n",
            "2                 0.0  \n",
            "3                 0.0  \n",
            "4                 0.0  \n"
          ],
          "name": "stdout"
        }
      ]
    },
    {
      "cell_type": "markdown",
      "metadata": {
        "id": "3tjrUDPkdNvS"
      },
      "source": [
        "Scaling date-values between 0 - 1:"
      ]
    },
    {
      "cell_type": "code",
      "metadata": {
        "id": "Utq2RYW6YUZI",
        "outputId": "3ebb5938-9dc0-4a22-b587-6a4564887554",
        "colab": {
          "base_uri": "https://localhost:8080/",
          "height": 353
        }
      },
      "source": [
        "df_merge['month_actual']= df_merge['month_actual'].div(12)\n",
        "df_merge['day_of_year']= df_merge['day_of_year'].div(365)\n",
        "df_merge['day_of_week']= df_merge['day_of_week'].div(7)\n",
        "df_merge['quarter_actual']= df_merge['quarter_actual'].div(4)\n",
        "df_merge['military_hour']= df_merge['military_hour'].div(23)\n",
        "df_merge['day_of_month']= df_merge['day_of_month'].div(31)\n",
        "\n",
        "\n",
        "df_merge.head(5)\n",
        "\n",
        "df_merge.max()"
      ],
      "execution_count": null,
      "outputs": [
        {
          "output_type": "execute_result",
          "data": {
            "text/plain": [
              "station_key                     1919\n",
              "military_hour                      1\n",
              "trips_started                    120\n",
              "trips_ended                      241\n",
              "all_trips                        264\n",
              "air_temperatur_celsius          31.3\n",
              "precipitation_mm                32.1\n",
              "wind_speed_ms                11.9429\n",
              "date_actual               2020-09-30\n",
              "day_of_week                        1\n",
              "day_name                   Wednesday\n",
              "month_actual                       1\n",
              "day_of_month                       1\n",
              "quarter_actual                     1\n",
              "day_of_year                        1\n",
              "is_holiday                         1\n",
              "is_strike                          1\n",
              "elevation_x                  137.829\n",
              "is_weekend                         0\n",
              "dtype: object"
            ]
          },
          "metadata": {
            "tags": []
          },
          "execution_count": 56
        }
      ]
    },
    {
      "cell_type": "markdown",
      "metadata": {
        "id": "cqjen2AnYYnl"
      },
      "source": [
        "Scaling all numerical columns so the value is between 0-1"
      ]
    },
    {
      "cell_type": "code",
      "metadata": {
        "id": "bkoOiuIFR4Xu",
        "outputId": "5db1e45c-c95b-4240-c2c0-7ed1b5aef56b",
        "colab": {
          "base_uri": "https://localhost:8080/",
          "height": 634
        }
      },
      "source": [
        "# Showing max-values:\n",
        "df_merge.max()\n",
        "\n",
        "# Histogram av fordelingen\n",
        "df_merge.hist()\n",
        "\n",
        "# Need to scale wind_speed, air_temp, precipitation, elevation and all trips"
      ],
      "execution_count": null,
      "outputs": [
        {
          "output_type": "execute_result",
          "data": {
            "text/plain": [
              "array([[<matplotlib.axes._subplots.AxesSubplot object at 0x7fb7d93799b0>,\n",
              "        <matplotlib.axes._subplots.AxesSubplot object at 0x7fb75b2ec908>,\n",
              "        <matplotlib.axes._subplots.AxesSubplot object at 0x7fb75b1fec88>,\n",
              "        <matplotlib.axes._subplots.AxesSubplot object at 0x7fb75b1bafd0>],\n",
              "       [<matplotlib.axes._subplots.AxesSubplot object at 0x7fb75b1303c8>,\n",
              "        <matplotlib.axes._subplots.AxesSubplot object at 0x7fb75b0a3748>,\n",
              "        <matplotlib.axes._subplots.AxesSubplot object at 0x7fb75b000ac8>,\n",
              "        <matplotlib.axes._subplots.AxesSubplot object at 0x7fb75afdde10>],\n",
              "       [<matplotlib.axes._subplots.AxesSubplot object at 0x7fb75afdde80>,\n",
              "        <matplotlib.axes._subplots.AxesSubplot object at 0x7fb75ae90588>,\n",
              "        <matplotlib.axes._subplots.AxesSubplot object at 0x7fb75ae66908>,\n",
              "        <matplotlib.axes._subplots.AxesSubplot object at 0x7fb76c42e8d0>],\n",
              "       [<matplotlib.axes._subplots.AxesSubplot object at 0x7fb770a2ba20>,\n",
              "        <matplotlib.axes._subplots.AxesSubplot object at 0x7fb770986eb8>,\n",
              "        <matplotlib.axes._subplots.AxesSubplot object at 0x7fb77081bd68>,\n",
              "        <matplotlib.axes._subplots.AxesSubplot object at 0x7fb7702569b0>],\n",
              "       [<matplotlib.axes._subplots.AxesSubplot object at 0x7fb77026e940>,\n",
              "        <matplotlib.axes._subplots.AxesSubplot object at 0x7fb76fde67f0>,\n",
              "        <matplotlib.axes._subplots.AxesSubplot object at 0x7fb76f6b4a20>,\n",
              "        <matplotlib.axes._subplots.AxesSubplot object at 0x7fb76cf81940>]],\n",
              "      dtype=object)"
            ]
          },
          "metadata": {
            "tags": []
          },
          "execution_count": 57
        },
        {
          "output_type": "display_data",
          "data": {
            "image/png": "[encoded data removed]",
            "text/plain": [
              "<Figure size 432x288 with 20 Axes>"
            ]
          },
          "metadata": {
            "tags": [],
            "needs_background": "light"
          }
        }
      ]
    },
    {
      "cell_type": "code",
      "metadata": {
        "id": "dgzEL5EpgDO4",
        "outputId": "5ddb401f-263c-4d3c-d006-3135249e8964",
        "colab": {
          "base_uri": "https://localhost:8080/",
          "height": 126
        }
      },
      "source": [
        "MinMax= MinMaxScaler()\n",
        "all_trip=MinMax.fit_transform(df_merge[['all_trips']])\n",
        "air_temp=MinMax.fit_transform(df_merge[['air_temperatur_celsius']])\n",
        "precipitation=MinMax.fit_transform(df_merge[['precipitation_mm']])\n",
        "wind=MinMax.fit_transform(df_merge[['wind_speed_ms']])\n",
        "elevation=MinMax.fit_transform(df_merge[['elevation_x']])\n",
        "\n",
        "# Adding scaled columns back to dataframe\n",
        "df_merge['All_trips_scale']=all_trip\n",
        "df_merge['Air_temperatur_scale']=air_temp\n",
        "df_merge['precipitation_mm_scale']=precipitation\n",
        "df_merge['wind_speed_ms_scale']=wind\n",
        "df_merge['elevation_scale']=elevation\n",
        "\n",
        "df_merge.head(2)"
      ],
      "execution_count": null,
      "outputs": [
        {
          "output_type": "execute_result",
          "data": {
            "text/html": [
              "<div>\n",
              "<style scoped>\n",
              "    .dataframe tbody tr th:only-of-type {\n",
              "        vertical-align: middle;\n",
              "    }\n",
              "\n",
              "    .dataframe tbody tr th {\n",
              "        vertical-align: top;\n",
              "    }\n",
              "\n",
              "    .dataframe thead th {\n",
              "        text-align: right;\n",
              "    }\n",
              "</style>\n",
              "<table border=\"1\" class=\"dataframe\">\n",
              "  <thead>\n",
              "    <tr style=\"text-align: right;\">\n",
              "      <th></th>\n",
              "      <th>station_key</th>\n",
              "      <th>military_hour</th>\n",
              "      <th>trips_started</th>\n",
              "      <th>trips_ended</th>\n",
              "      <th>all_trips</th>\n",
              "      <th>air_temperatur_celsius</th>\n",
              "      <th>precipitation_mm</th>\n",
              "      <th>wind_speed_ms</th>\n",
              "      <th>date_actual</th>\n",
              "      <th>day_of_week</th>\n",
              "      <th>day_name</th>\n",
              "      <th>month_actual</th>\n",
              "      <th>day_of_month</th>\n",
              "      <th>quarter_actual</th>\n",
              "      <th>day_of_year</th>\n",
              "      <th>is_holiday</th>\n",
              "      <th>is_strike</th>\n",
              "      <th>elevation_x</th>\n",
              "      <th>is_weekend</th>\n",
              "      <th>All_trips_scale</th>\n",
              "      <th>Air_temperatur_scale</th>\n",
              "      <th>precipitation_mm_scale</th>\n",
              "      <th>wind_speed_ms_scale</th>\n",
              "      <th>elevation_scale</th>\n",
              "    </tr>\n",
              "  </thead>\n",
              "  <tbody>\n",
              "    <tr>\n",
              "      <th>0</th>\n",
              "      <td>509</td>\n",
              "      <td>0.043478</td>\n",
              "      <td>0</td>\n",
              "      <td>0</td>\n",
              "      <td>0</td>\n",
              "      <td>1.6</td>\n",
              "      <td>0.0</td>\n",
              "      <td>1.8</td>\n",
              "      <td>2019-04-02</td>\n",
              "      <td>0.285714</td>\n",
              "      <td>Tuesday</td>\n",
              "      <td>0.333333</td>\n",
              "      <td>0.064516</td>\n",
              "      <td>0.5</td>\n",
              "      <td>0.252055</td>\n",
              "      <td>0</td>\n",
              "      <td>0</td>\n",
              "      <td>26.864119</td>\n",
              "      <td>0</td>\n",
              "      <td>0.0</td>\n",
              "      <td>0.233548</td>\n",
              "      <td>0.0</td>\n",
              "      <td>0.142512</td>\n",
              "      <td>0.183054</td>\n",
              "    </tr>\n",
              "    <tr>\n",
              "      <th>1</th>\n",
              "      <td>510</td>\n",
              "      <td>0.043478</td>\n",
              "      <td>0</td>\n",
              "      <td>0</td>\n",
              "      <td>0</td>\n",
              "      <td>1.6</td>\n",
              "      <td>0.0</td>\n",
              "      <td>1.8</td>\n",
              "      <td>2019-04-02</td>\n",
              "      <td>0.285714</td>\n",
              "      <td>Tuesday</td>\n",
              "      <td>0.333333</td>\n",
              "      <td>0.064516</td>\n",
              "      <td>0.5</td>\n",
              "      <td>0.252055</td>\n",
              "      <td>0</td>\n",
              "      <td>0</td>\n",
              "      <td>89.752731</td>\n",
              "      <td>0</td>\n",
              "      <td>0.0</td>\n",
              "      <td>0.233548</td>\n",
              "      <td>0.0</td>\n",
              "      <td>0.142512</td>\n",
              "      <td>0.646052</td>\n",
              "    </tr>\n",
              "  </tbody>\n",
              "</table>\n",
              "</div>"
            ],
            "text/plain": [
              "   station_key  military_hour  trips_started  trips_ended  all_trips  \\\n",
              "0          509       0.043478              0            0          0   \n",
              "1          510       0.043478              0            0          0   \n",
              "\n",
              "   air_temperatur_celsius  precipitation_mm  wind_speed_ms date_actual  \\\n",
              "0                     1.6               0.0            1.8  2019-04-02   \n",
              "1                     1.6               0.0            1.8  2019-04-02   \n",
              "\n",
              "   day_of_week   day_name  month_actual  day_of_month  quarter_actual  \\\n",
              "0     0.285714  Tuesday        0.333333      0.064516             0.5   \n",
              "1     0.285714  Tuesday        0.333333      0.064516             0.5   \n",
              "\n",
              "   day_of_year  is_holiday  is_strike  elevation_x  is_weekend  \\\n",
              "0     0.252055           0          0    26.864119           0   \n",
              "1     0.252055           0          0    89.752731           0   \n",
              "\n",
              "   All_trips_scale  Air_temperatur_scale  precipitation_mm_scale  \\\n",
              "0              0.0              0.233548                     0.0   \n",
              "1              0.0              0.233548                     0.0   \n",
              "\n",
              "   wind_speed_ms_scale  elevation_scale  \n",
              "0             0.142512         0.183054  \n",
              "1             0.142512         0.646052  "
            ]
          },
          "metadata": {
            "tags": []
          },
          "execution_count": 58
        }
      ]
    },
    {
      "cell_type": "markdown",
      "metadata": {
        "id": "yv06k6Zmnnrl"
      },
      "source": [
        "Turn station key back to categorical value"
      ]
    },
    {
      "cell_type": "code",
      "metadata": {
        "id": "Opyxb6a1nkMm",
        "outputId": "6557a001-efc9-4a75-9a14-93faa51c5f11",
        "colab": {
          "base_uri": "https://localhost:8080/",
          "height": 437
        }
      },
      "source": [
        "df_merge['station_key']=df_merge['station_key'].astype('category')\n",
        "df_merge.dtypes"
      ],
      "execution_count": null,
      "outputs": [
        {
          "output_type": "execute_result",
          "data": {
            "text/plain": [
              "station_key               category\n",
              "military_hour              float64\n",
              "trips_started                int64\n",
              "trips_ended                  int64\n",
              "all_trips                    int64\n",
              "air_temperatur_celsius     float64\n",
              "precipitation_mm           float64\n",
              "wind_speed_ms              float64\n",
              "date_actual                 object\n",
              "day_of_week                float64\n",
              "day_name                    object\n",
              "month_actual               float64\n",
              "day_of_month               float64\n",
              "quarter_actual             float64\n",
              "day_of_year                float64\n",
              "is_holiday                   int64\n",
              "is_strike                    int64\n",
              "elevation_x                float64\n",
              "is_weekend                   int64\n",
              "All_trips_scale            float64\n",
              "Air_temperatur_scale       float64\n",
              "precipitation_mm_scale     float64\n",
              "wind_speed_ms_scale        float64\n",
              "elevation_scale            float64\n",
              "dtype: object"
            ]
          },
          "metadata": {
            "tags": []
          },
          "execution_count": 59
        }
      ]
    },
    {
      "cell_type": "markdown",
      "metadata": {
        "id": "eMAmnHREoay4"
      },
      "source": [
        "Label encode station key to values between 1 and 273:"
      ]
    },
    {
      "cell_type": "code",
      "metadata": {
        "id": "rSmVW4x4ocIw",
        "outputId": "6fb0a586-cbfb-4174-8db5-07865f0a50da",
        "colab": {
          "base_uri": "https://localhost:8080/",
          "height": 402
        }
      },
      "source": [
        "from sklearn.preprocessing import LabelEncoder\n",
        "\n",
        "lb_station = LabelEncoder()\n",
        "\n",
        "df_merge['station_key_code']= lb_station.fit_transform(df_merge['station_key'])\n",
        "\n",
        "# Add 1 so min. value is 1:\n",
        "df_merge['station_key_code']=df_merge['station_key_code'].add(1)\n",
        "df_merge[['station_key','station_key_code']].sort_values(by='station_key_code')"
      ],
      "execution_count": null,
      "outputs": [
        {
          "output_type": "execute_result",
          "data": {
            "text/html": [
              "<div>\n",
              "<style scoped>\n",
              "    .dataframe tbody tr th:only-of-type {\n",
              "        vertical-align: middle;\n",
              "    }\n",
              "\n",
              "    .dataframe tbody tr th {\n",
              "        vertical-align: top;\n",
              "    }\n",
              "\n",
              "    .dataframe thead th {\n",
              "        text-align: right;\n",
              "    }\n",
              "</style>\n",
              "<table border=\"1\" class=\"dataframe\">\n",
              "  <thead>\n",
              "    <tr style=\"text-align: right;\">\n",
              "      <th></th>\n",
              "      <th>station_key</th>\n",
              "      <th>station_key_code</th>\n",
              "    </tr>\n",
              "  </thead>\n",
              "  <tbody>\n",
              "    <tr>\n",
              "      <th>2644694</th>\n",
              "      <td>377</td>\n",
              "      <td>1</td>\n",
              "    </tr>\n",
              "    <tr>\n",
              "      <th>2823509</th>\n",
              "      <td>377</td>\n",
              "      <td>1</td>\n",
              "    </tr>\n",
              "    <tr>\n",
              "      <th>1882478</th>\n",
              "      <td>377</td>\n",
              "      <td>1</td>\n",
              "    </tr>\n",
              "    <tr>\n",
              "      <th>316004</th>\n",
              "      <td>377</td>\n",
              "      <td>1</td>\n",
              "    </tr>\n",
              "    <tr>\n",
              "      <th>3024710</th>\n",
              "      <td>377</td>\n",
              "      <td>1</td>\n",
              "    </tr>\n",
              "    <tr>\n",
              "      <th>...</th>\n",
              "      <td>...</td>\n",
              "      <td>...</td>\n",
              "    </tr>\n",
              "    <tr>\n",
              "      <th>746797</th>\n",
              "      <td>1919</td>\n",
              "      <td>273</td>\n",
              "    </tr>\n",
              "    <tr>\n",
              "      <th>2658343</th>\n",
              "      <td>1919</td>\n",
              "      <td>273</td>\n",
              "    </tr>\n",
              "    <tr>\n",
              "      <th>747070</th>\n",
              "      <td>1919</td>\n",
              "      <td>273</td>\n",
              "    </tr>\n",
              "    <tr>\n",
              "      <th>2660254</th>\n",
              "      <td>1919</td>\n",
              "      <td>273</td>\n",
              "    </tr>\n",
              "    <tr>\n",
              "      <th>826786</th>\n",
              "      <td>1919</td>\n",
              "      <td>273</td>\n",
              "    </tr>\n",
              "  </tbody>\n",
              "</table>\n",
              "<p>3485664 rows × 2 columns</p>\n",
              "</div>"
            ],
            "text/plain": [
              "        station_key  station_key_code\n",
              "2644694         377                 1\n",
              "2823509         377                 1\n",
              "1882478         377                 1\n",
              "316004          377                 1\n",
              "3024710         377                 1\n",
              "...             ...               ...\n",
              "746797         1919               273\n",
              "2658343        1919               273\n",
              "747070         1919               273\n",
              "2660254        1919               273\n",
              "826786         1919               273\n",
              "\n",
              "[3485664 rows x 2 columns]"
            ]
          },
          "metadata": {
            "tags": []
          },
          "execution_count": 60
        }
      ]
    },
    {
      "cell_type": "code",
      "metadata": {
        "id": "EE5Rhe7KR4ii",
        "outputId": "6599e6ca-2864-4bd2-f088-48b09d5a196b",
        "colab": {
          "base_uri": "https://localhost:8080/",
          "height": 791
        }
      },
      "source": [
        "# Creating final df:\n",
        "df_merge.columns\n",
        "\n",
        "df_all= df_merge[['station_key_code', 'military_hour',\n",
        "       'all_trips', 'Air_temperatur_scale', 'precipitation_mm_scale',\n",
        "       'wind_speed_ms_scale', 'elevation_scale', 'date_actual', 'day_of_week',\n",
        "       'month_actual', 'day_of_month', 'quarter_actual', 'day_of_year',\n",
        "       'is_holiday', 'is_weekend']]\n",
        "\n",
        "df_all.info()\n",
        "\n",
        "df_all"
      ],
      "execution_count": null,
      "outputs": [
        {
          "output_type": "stream",
          "text": [
            "<class 'pandas.core.frame.DataFrame'>\n",
            "Int64Index: 3485664 entries, 0 to 3485663\n",
            "Data columns (total 15 columns):\n",
            " #   Column                  Dtype  \n",
            "---  ------                  -----  \n",
            " 0   station_key_code        int64  \n",
            " 1   military_hour           float64\n",
            " 2   all_trips               int64  \n",
            " 3   Air_temperatur_scale    float64\n",
            " 4   precipitation_mm_scale  float64\n",
            " 5   wind_speed_ms_scale     float64\n",
            " 6   elevation_scale         float64\n",
            " 7   date_actual             object \n",
            " 8   day_of_week             float64\n",
            " 9   month_actual            float64\n",
            " 10  day_of_month            float64\n",
            " 11  quarter_actual          float64\n",
            " 12  day_of_year             float64\n",
            " 13  is_holiday              int64  \n",
            " 14  is_weekend              int64  \n",
            "dtypes: float64(10), int64(4), object(1)\n",
            "memory usage: 425.5+ MB\n"
          ],
          "name": "stdout"
        },
        {
          "output_type": "execute_result",
          "data": {
            "text/html": [
              "<div>\n",
              "<style scoped>\n",
              "    .dataframe tbody tr th:only-of-type {\n",
              "        vertical-align: middle;\n",
              "    }\n",
              "\n",
              "    .dataframe tbody tr th {\n",
              "        vertical-align: top;\n",
              "    }\n",
              "\n",
              "    .dataframe thead th {\n",
              "        text-align: right;\n",
              "    }\n",
              "</style>\n",
              "<table border=\"1\" class=\"dataframe\">\n",
              "  <thead>\n",
              "    <tr style=\"text-align: right;\">\n",
              "      <th></th>\n",
              "      <th>station_key_code</th>\n",
              "      <th>military_hour</th>\n",
              "      <th>all_trips</th>\n",
              "      <th>Air_temperatur_scale</th>\n",
              "      <th>precipitation_mm_scale</th>\n",
              "      <th>wind_speed_ms_scale</th>\n",
              "      <th>elevation_scale</th>\n",
              "      <th>date_actual</th>\n",
              "      <th>day_of_week</th>\n",
              "      <th>month_actual</th>\n",
              "      <th>day_of_month</th>\n",
              "      <th>quarter_actual</th>\n",
              "      <th>day_of_year</th>\n",
              "      <th>is_holiday</th>\n",
              "      <th>is_weekend</th>\n",
              "    </tr>\n",
              "  </thead>\n",
              "  <tbody>\n",
              "    <tr>\n",
              "      <th>0</th>\n",
              "      <td>131</td>\n",
              "      <td>0.043478</td>\n",
              "      <td>0</td>\n",
              "      <td>0.233548</td>\n",
              "      <td>0.0</td>\n",
              "      <td>0.142512</td>\n",
              "      <td>0.183054</td>\n",
              "      <td>2019-04-02</td>\n",
              "      <td>0.285714</td>\n",
              "      <td>0.333333</td>\n",
              "      <td>0.064516</td>\n",
              "      <td>0.5</td>\n",
              "      <td>0.252055</td>\n",
              "      <td>0</td>\n",
              "      <td>0</td>\n",
              "    </tr>\n",
              "    <tr>\n",
              "      <th>1</th>\n",
              "      <td>132</td>\n",
              "      <td>0.043478</td>\n",
              "      <td>0</td>\n",
              "      <td>0.233548</td>\n",
              "      <td>0.0</td>\n",
              "      <td>0.142512</td>\n",
              "      <td>0.646052</td>\n",
              "      <td>2019-04-02</td>\n",
              "      <td>0.285714</td>\n",
              "      <td>0.333333</td>\n",
              "      <td>0.064516</td>\n",
              "      <td>0.5</td>\n",
              "      <td>0.252055</td>\n",
              "      <td>0</td>\n",
              "      <td>0</td>\n",
              "    </tr>\n",
              "    <tr>\n",
              "      <th>2</th>\n",
              "      <td>133</td>\n",
              "      <td>0.043478</td>\n",
              "      <td>0</td>\n",
              "      <td>0.233548</td>\n",
              "      <td>0.0</td>\n",
              "      <td>0.142512</td>\n",
              "      <td>0.253313</td>\n",
              "      <td>2019-04-02</td>\n",
              "      <td>0.285714</td>\n",
              "      <td>0.333333</td>\n",
              "      <td>0.064516</td>\n",
              "      <td>0.5</td>\n",
              "      <td>0.252055</td>\n",
              "      <td>0</td>\n",
              "      <td>0</td>\n",
              "    </tr>\n",
              "    <tr>\n",
              "      <th>3</th>\n",
              "      <td>134</td>\n",
              "      <td>0.043478</td>\n",
              "      <td>0</td>\n",
              "      <td>0.233548</td>\n",
              "      <td>0.0</td>\n",
              "      <td>0.142512</td>\n",
              "      <td>0.448399</td>\n",
              "      <td>2019-04-02</td>\n",
              "      <td>0.285714</td>\n",
              "      <td>0.333333</td>\n",
              "      <td>0.064516</td>\n",
              "      <td>0.5</td>\n",
              "      <td>0.252055</td>\n",
              "      <td>0</td>\n",
              "      <td>0</td>\n",
              "    </tr>\n",
              "    <tr>\n",
              "      <th>4</th>\n",
              "      <td>135</td>\n",
              "      <td>0.043478</td>\n",
              "      <td>0</td>\n",
              "      <td>0.233548</td>\n",
              "      <td>0.0</td>\n",
              "      <td>0.142512</td>\n",
              "      <td>0.742938</td>\n",
              "      <td>2019-04-02</td>\n",
              "      <td>0.285714</td>\n",
              "      <td>0.333333</td>\n",
              "      <td>0.064516</td>\n",
              "      <td>0.5</td>\n",
              "      <td>0.252055</td>\n",
              "      <td>0</td>\n",
              "      <td>0</td>\n",
              "    </tr>\n",
              "    <tr>\n",
              "      <th>...</th>\n",
              "      <td>...</td>\n",
              "      <td>...</td>\n",
              "      <td>...</td>\n",
              "      <td>...</td>\n",
              "      <td>...</td>\n",
              "      <td>...</td>\n",
              "      <td>...</td>\n",
              "      <td>...</td>\n",
              "      <td>...</td>\n",
              "      <td>...</td>\n",
              "      <td>...</td>\n",
              "      <td>...</td>\n",
              "      <td>...</td>\n",
              "      <td>...</td>\n",
              "      <td>...</td>\n",
              "    </tr>\n",
              "    <tr>\n",
              "      <th>3485659</th>\n",
              "      <td>126</td>\n",
              "      <td>0.043478</td>\n",
              "      <td>0</td>\n",
              "      <td>0.233548</td>\n",
              "      <td>0.0</td>\n",
              "      <td>0.142512</td>\n",
              "      <td>0.014724</td>\n",
              "      <td>2019-04-02</td>\n",
              "      <td>0.285714</td>\n",
              "      <td>0.333333</td>\n",
              "      <td>0.064516</td>\n",
              "      <td>0.5</td>\n",
              "      <td>0.252055</td>\n",
              "      <td>0</td>\n",
              "      <td>0</td>\n",
              "    </tr>\n",
              "    <tr>\n",
              "      <th>3485660</th>\n",
              "      <td>127</td>\n",
              "      <td>0.043478</td>\n",
              "      <td>0</td>\n",
              "      <td>0.233548</td>\n",
              "      <td>0.0</td>\n",
              "      <td>0.142512</td>\n",
              "      <td>0.488565</td>\n",
              "      <td>2019-04-02</td>\n",
              "      <td>0.285714</td>\n",
              "      <td>0.333333</td>\n",
              "      <td>0.064516</td>\n",
              "      <td>0.5</td>\n",
              "      <td>0.252055</td>\n",
              "      <td>0</td>\n",
              "      <td>0</td>\n",
              "    </tr>\n",
              "    <tr>\n",
              "      <th>3485661</th>\n",
              "      <td>128</td>\n",
              "      <td>0.043478</td>\n",
              "      <td>0</td>\n",
              "      <td>0.233548</td>\n",
              "      <td>0.0</td>\n",
              "      <td>0.142512</td>\n",
              "      <td>0.212228</td>\n",
              "      <td>2019-04-02</td>\n",
              "      <td>0.285714</td>\n",
              "      <td>0.333333</td>\n",
              "      <td>0.064516</td>\n",
              "      <td>0.5</td>\n",
              "      <td>0.252055</td>\n",
              "      <td>0</td>\n",
              "      <td>0</td>\n",
              "    </tr>\n",
              "    <tr>\n",
              "      <th>3485662</th>\n",
              "      <td>129</td>\n",
              "      <td>0.043478</td>\n",
              "      <td>0</td>\n",
              "      <td>0.233548</td>\n",
              "      <td>0.0</td>\n",
              "      <td>0.142512</td>\n",
              "      <td>0.158294</td>\n",
              "      <td>2019-04-02</td>\n",
              "      <td>0.285714</td>\n",
              "      <td>0.333333</td>\n",
              "      <td>0.064516</td>\n",
              "      <td>0.5</td>\n",
              "      <td>0.252055</td>\n",
              "      <td>0</td>\n",
              "      <td>0</td>\n",
              "    </tr>\n",
              "    <tr>\n",
              "      <th>3485663</th>\n",
              "      <td>130</td>\n",
              "      <td>0.043478</td>\n",
              "      <td>0</td>\n",
              "      <td>0.233548</td>\n",
              "      <td>0.0</td>\n",
              "      <td>0.142512</td>\n",
              "      <td>0.389256</td>\n",
              "      <td>2019-04-02</td>\n",
              "      <td>0.285714</td>\n",
              "      <td>0.333333</td>\n",
              "      <td>0.064516</td>\n",
              "      <td>0.5</td>\n",
              "      <td>0.252055</td>\n",
              "      <td>0</td>\n",
              "      <td>0</td>\n",
              "    </tr>\n",
              "  </tbody>\n",
              "</table>\n",
              "<p>3485664 rows × 15 columns</p>\n",
              "</div>"
            ],
            "text/plain": [
              "         station_key_code  military_hour  all_trips  Air_temperatur_scale  \\\n",
              "0                     131       0.043478          0              0.233548   \n",
              "1                     132       0.043478          0              0.233548   \n",
              "2                     133       0.043478          0              0.233548   \n",
              "3                     134       0.043478          0              0.233548   \n",
              "4                     135       0.043478          0              0.233548   \n",
              "...                   ...            ...        ...                   ...   \n",
              "3485659               126       0.043478          0              0.233548   \n",
              "3485660               127       0.043478          0              0.233548   \n",
              "3485661               128       0.043478          0              0.233548   \n",
              "3485662               129       0.043478          0              0.233548   \n",
              "3485663               130       0.043478          0              0.233548   \n",
              "\n",
              "         precipitation_mm_scale  wind_speed_ms_scale  elevation_scale  \\\n",
              "0                           0.0             0.142512         0.183054   \n",
              "1                           0.0             0.142512         0.646052   \n",
              "2                           0.0             0.142512         0.253313   \n",
              "3                           0.0             0.142512         0.448399   \n",
              "4                           0.0             0.142512         0.742938   \n",
              "...                         ...                  ...              ...   \n",
              "3485659                     0.0             0.142512         0.014724   \n",
              "3485660                     0.0             0.142512         0.488565   \n",
              "3485661                     0.0             0.142512         0.212228   \n",
              "3485662                     0.0             0.142512         0.158294   \n",
              "3485663                     0.0             0.142512         0.389256   \n",
              "\n",
              "        date_actual  day_of_week  month_actual  day_of_month  quarter_actual  \\\n",
              "0        2019-04-02     0.285714      0.333333      0.064516             0.5   \n",
              "1        2019-04-02     0.285714      0.333333      0.064516             0.5   \n",
              "2        2019-04-02     0.285714      0.333333      0.064516             0.5   \n",
              "3        2019-04-02     0.285714      0.333333      0.064516             0.5   \n",
              "4        2019-04-02     0.285714      0.333333      0.064516             0.5   \n",
              "...             ...          ...           ...           ...             ...   \n",
              "3485659  2019-04-02     0.285714      0.333333      0.064516             0.5   \n",
              "3485660  2019-04-02     0.285714      0.333333      0.064516             0.5   \n",
              "3485661  2019-04-02     0.285714      0.333333      0.064516             0.5   \n",
              "3485662  2019-04-02     0.285714      0.333333      0.064516             0.5   \n",
              "3485663  2019-04-02     0.285714      0.333333      0.064516             0.5   \n",
              "\n",
              "         day_of_year  is_holiday  is_weekend  \n",
              "0           0.252055           0           0  \n",
              "1           0.252055           0           0  \n",
              "2           0.252055           0           0  \n",
              "3           0.252055           0           0  \n",
              "4           0.252055           0           0  \n",
              "...              ...         ...         ...  \n",
              "3485659     0.252055           0           0  \n",
              "3485660     0.252055           0           0  \n",
              "3485661     0.252055           0           0  \n",
              "3485662     0.252055           0           0  \n",
              "3485663     0.252055           0           0  \n",
              "\n",
              "[3485664 rows x 15 columns]"
            ]
          },
          "metadata": {
            "tags": []
          },
          "execution_count": 61
        }
      ]
    },
    {
      "cell_type": "code",
      "metadata": {
        "id": "5fu92mXPSNNj",
        "outputId": "6165b51b-2cb9-4c5c-afb3-2f585543ef4a",
        "colab": {
          "base_uri": "https://localhost:8080/",
          "height": 1000
        }
      },
      "source": [
        "# Set index to date and reset index:\n",
        "df_all= df_all.set_index('date_actual').sort_index()\n",
        "print(df_all.head(10))\n",
        "\n",
        "# Train, test, split:\n",
        "split_date = pd.to_datetime('2020-08-01').date()\n",
        "train= df_all.loc[df_all.index <= split_date].copy()\n",
        "test= df_all.loc[df_all.index > split_date].copy()\n",
        "\n",
        "#Sjekker at splitten er riktig\n",
        "print(test.head(5))\n",
        "print(train.head(6))\n",
        "\n",
        "# Split into x and y:\n",
        "y_train= train['all_trips']\n",
        "x_train = train.loc[:,train.columns!='all_trips']\n",
        "\n",
        "y_test= test['all_trips']\n",
        "x_test = test.loc[:,test.columns!='all_trips']\n",
        "\n"
      ],
      "execution_count": null,
      "outputs": [
        {
          "output_type": "stream",
          "text": [
            "             station_key_code  military_hour  all_trips  Air_temperatur_scale  \\\n",
            "date_actual                                                                     \n",
            "2019-04-02                131       0.043478          0              0.233548   \n",
            "2019-04-02                136       0.739130          0              0.396129   \n",
            "2019-04-02                135       0.739130          0              0.396129   \n",
            "2019-04-02                134       0.739130          0              0.396129   \n",
            "2019-04-02                133       0.739130          0              0.396129   \n",
            "2019-04-02                132       0.739130          0              0.396129   \n",
            "2019-04-02                131       0.739130          0              0.396129   \n",
            "2019-04-02                130       0.739130          0              0.396129   \n",
            "2019-04-02                129       0.739130          0              0.396129   \n",
            "2019-04-02                128       0.739130          0              0.396129   \n",
            "\n",
            "             precipitation_mm_scale  wind_speed_ms_scale  elevation_scale  \\\n",
            "date_actual                                                                 \n",
            "2019-04-02                      0.0             0.142512         0.183054   \n",
            "2019-04-02                      0.0             0.086957         0.255539   \n",
            "2019-04-02                      0.0             0.086957         0.742938   \n",
            "2019-04-02                      0.0             0.086957         0.448399   \n",
            "2019-04-02                      0.0             0.086957         0.253313   \n",
            "2019-04-02                      0.0             0.086957         0.646052   \n",
            "2019-04-02                      0.0             0.086957         0.183054   \n",
            "2019-04-02                      0.0             0.086957         0.389256   \n",
            "2019-04-02                      0.0             0.086957         0.158294   \n",
            "2019-04-02                      0.0             0.086957         0.212228   \n",
            "\n",
            "             day_of_week  month_actual  day_of_month  quarter_actual  \\\n",
            "date_actual                                                            \n",
            "2019-04-02      0.285714      0.333333      0.064516             0.5   \n",
            "2019-04-02      0.285714      0.333333      0.064516             0.5   \n",
            "2019-04-02      0.285714      0.333333      0.064516             0.5   \n",
            "2019-04-02      0.285714      0.333333      0.064516             0.5   \n",
            "2019-04-02      0.285714      0.333333      0.064516             0.5   \n",
            "2019-04-02      0.285714      0.333333      0.064516             0.5   \n",
            "2019-04-02      0.285714      0.333333      0.064516             0.5   \n",
            "2019-04-02      0.285714      0.333333      0.064516             0.5   \n",
            "2019-04-02      0.285714      0.333333      0.064516             0.5   \n",
            "2019-04-02      0.285714      0.333333      0.064516             0.5   \n",
            "\n",
            "             day_of_year  is_holiday  is_weekend  \n",
            "date_actual                                       \n",
            "2019-04-02      0.252055           0           0  \n",
            "2019-04-02      0.252055           0           0  \n",
            "2019-04-02      0.252055           0           0  \n",
            "2019-04-02      0.252055           0           0  \n",
            "2019-04-02      0.252055           0           0  \n",
            "2019-04-02      0.252055           0           0  \n",
            "2019-04-02      0.252055           0           0  \n",
            "2019-04-02      0.252055           0           0  \n",
            "2019-04-02      0.252055           0           0  \n",
            "2019-04-02      0.252055           0           0  \n",
            "             station_key_code  military_hour  all_trips  Air_temperatur_scale  \\\n",
            "date_actual                                                                     \n",
            "2020-08-02                128       0.695652          1              0.639631   \n",
            "2020-08-02                133       0.695652          2              0.639631   \n",
            "2020-08-02                132       0.695652          0              0.639631   \n",
            "2020-08-02                131       0.695652          1              0.639631   \n",
            "2020-08-02                135       0.695652          2              0.639631   \n",
            "\n",
            "             precipitation_mm_scale  wind_speed_ms_scale  elevation_scale  \\\n",
            "date_actual                                                                 \n",
            "2020-08-02                 0.129283             0.257246         0.212228   \n",
            "2020-08-02                 0.129283             0.257246         0.253313   \n",
            "2020-08-02                 0.129283             0.257246         0.646052   \n",
            "2020-08-02                 0.129283             0.257246         0.183054   \n",
            "2020-08-02                 0.129283             0.257246         0.742938   \n",
            "\n",
            "             day_of_week  month_actual  day_of_month  quarter_actual  \\\n",
            "date_actual                                                            \n",
            "2020-08-02           1.0      0.666667      0.064516            0.75   \n",
            "2020-08-02           1.0      0.666667      0.064516            0.75   \n",
            "2020-08-02           1.0      0.666667      0.064516            0.75   \n",
            "2020-08-02           1.0      0.666667      0.064516            0.75   \n",
            "2020-08-02           1.0      0.666667      0.064516            0.75   \n",
            "\n",
            "             day_of_year  is_holiday  is_weekend  \n",
            "date_actual                                       \n",
            "2020-08-02      0.589041           1           0  \n",
            "2020-08-02      0.589041           1           0  \n",
            "2020-08-02      0.589041           1           0  \n",
            "2020-08-02      0.589041           1           0  \n",
            "2020-08-02      0.589041           1           0  \n",
            "             station_key_code  military_hour  all_trips  Air_temperatur_scale  \\\n",
            "date_actual                                                                     \n",
            "2019-04-02                131       0.043478          0              0.233548   \n",
            "2019-04-02                136       0.739130          0              0.396129   \n",
            "2019-04-02                135       0.739130          0              0.396129   \n",
            "2019-04-02                134       0.739130          0              0.396129   \n",
            "2019-04-02                133       0.739130          0              0.396129   \n",
            "2019-04-02                132       0.739130          0              0.396129   \n",
            "\n",
            "             precipitation_mm_scale  wind_speed_ms_scale  elevation_scale  \\\n",
            "date_actual                                                                 \n",
            "2019-04-02                      0.0             0.142512         0.183054   \n",
            "2019-04-02                      0.0             0.086957         0.255539   \n",
            "2019-04-02                      0.0             0.086957         0.742938   \n",
            "2019-04-02                      0.0             0.086957         0.448399   \n",
            "2019-04-02                      0.0             0.086957         0.253313   \n",
            "2019-04-02                      0.0             0.086957         0.646052   \n",
            "\n",
            "             day_of_week  month_actual  day_of_month  quarter_actual  \\\n",
            "date_actual                                                            \n",
            "2019-04-02      0.285714      0.333333      0.064516             0.5   \n",
            "2019-04-02      0.285714      0.333333      0.064516             0.5   \n",
            "2019-04-02      0.285714      0.333333      0.064516             0.5   \n",
            "2019-04-02      0.285714      0.333333      0.064516             0.5   \n",
            "2019-04-02      0.285714      0.333333      0.064516             0.5   \n",
            "2019-04-02      0.285714      0.333333      0.064516             0.5   \n",
            "\n",
            "             day_of_year  is_holiday  is_weekend  \n",
            "date_actual                                       \n",
            "2019-04-02      0.252055           0           0  \n",
            "2019-04-02      0.252055           0           0  \n",
            "2019-04-02      0.252055           0           0  \n",
            "2019-04-02      0.252055           0           0  \n",
            "2019-04-02      0.252055           0           0  \n",
            "2019-04-02      0.252055           0           0  \n"
          ],
          "name": "stdout"
        }
      ]
    },
    {
      "cell_type": "markdown",
      "metadata": {
        "id": "65GvL9utEB-m"
      },
      "source": [
        "Turn test & training data into numpy array"
      ]
    },
    {
      "cell_type": "code",
      "metadata": {
        "id": "9JGWCvkCEA2O"
      },
      "source": [
        "# Separate input 1 and 2 from test & training. Turn into np.array\n",
        "\n",
        "x_train_2= x_train.loc[:,x_train.columns !='station_key_code'].values.astype('float32')\n",
        "x_train_1= x_train[['station_key_code']].values\n",
        "\n",
        "x_test_2= x_test.loc[:,x_test.columns !='station_key_code'].values.astype('float32')\n",
        "x_test_1= x_test[['station_key_code']].values\n",
        "\n",
        "Y_test= y_test.values.reshape(-1,1).astype('float32')\n",
        "Y_train= y_train.values.reshape(-1,1).astype('float32')\n"
      ],
      "execution_count": null,
      "outputs": []
    },
    {
      "cell_type": "code",
      "metadata": {
        "id": "_XilpWLBcLba",
        "outputId": "602c92cd-6324-45c5-a1d2-6573dfc53dfe",
        "colab": {
          "base_uri": "https://localhost:8080/",
          "height": 84
        }
      },
      "source": [
        "print(x_train_2.shape)\n",
        "print(x_train_1.shape)\n",
        "print(Y_test.shape)\n",
        "print(Y_train.shape)"
      ],
      "execution_count": null,
      "outputs": [
        {
          "output_type": "stream",
          "text": [
            "(3092544, 12)\n",
            "(3092544, 1)\n",
            "(393120, 1)\n",
            "(3092544, 1)\n"
          ],
          "name": "stdout"
        }
      ]
    },
    {
      "cell_type": "markdown",
      "metadata": {
        "id": "kZFl_Pp0K3v5"
      },
      "source": [
        "Building the model:\n"
      ]
    },
    {
      "cell_type": "code",
      "metadata": {
        "id": "2kLMPjZpdDj6",
        "outputId": "14459aa9-8eb8-4245-c08a-f80213a39366",
        "colab": {
          "base_uri": "https://localhost:8080/",
          "height": 84
        }
      },
      "source": [
        "from tensorflow.keras.layers import Embedding\n",
        "\n",
        "# For input 1:\n",
        "input1= Input(shape=(1,))\n",
        "print(f'input1: {input1.shape}')\n",
        "embed_layer= Embedding(input_dim= 273, input_length=1, output_dim=16, name='station-id-lookup')(input1)\n",
        "print(f'embed_layer: {embed_layer.shape}')\n",
        "flatten_layer=Flatten()(embed_layer)\n",
        "print(f'flatten_layer: {flatten_layer.shape}')\n",
        "input2= Input(shape=(12,))\n",
        "print(f'input2: {input2.shape}')"
      ],
      "execution_count": null,
      "outputs": [
        {
          "output_type": "stream",
          "text": [
            "input1: (None, 1)\n",
            "embed_layer: (None, 1, 16)\n",
            "flatten_layer: (None, 16)\n",
            "input2: (None, 12)\n"
          ],
          "name": "stdout"
        }
      ]
    },
    {
      "cell_type": "code",
      "metadata": {
        "id": "Z1WnzIb6KwnB",
        "outputId": "abe91589-9da8-4066-8d15-bd19d27d2a3c",
        "colab": {
          "base_uri": "https://localhost:8080/",
          "height": 154
        }
      },
      "source": [
        "# Count number of unique values:\n",
        "df_all['station_key_code'].max()\n",
        "\n",
        "from keras.layers import Embedding\n",
        "\n",
        "# For input 1:\n",
        "input1= Input(shape=(1,))\n",
        "embed_layer= Embedding(input_dim= 274, input_length=1, output_dim=16, name='station-id-lookup')(input1)\n",
        "flatten_layer=Flatten()(embed_layer)\n",
        "\n",
        "# For input 2:\n",
        "input2= Input(shape=(12,))\n",
        "\n",
        "# Combine output of the two branches (input1 and input2)\n",
        "combine = concatenate([flatten_layer, input2])\n",
        "\n",
        "# Hidden layers\n",
        "hidden_layer1= Dense(64, activation='relu')(combine)\n",
        "hidden_layer2= Dense(16, activation='relu')(hidden_layer1)\n",
        "output_layer = Dense(1, activation='linear')(flatten_layer)\n",
        "\n",
        "# Create & compile model\n",
        "model_OBS = Model(inputs = [input1,input2], outputs=output_layer)\n",
        "\n",
        "model_OBS.compile(optimizer='adam', loss='mse', metrics='mae')\n",
        "\n",
        "\n",
        "\n",
        "# Trener modellen:\n",
        "history = model_OBS.fit([x_train_1, x_train_2], Y_train, \n",
        "    batch_size=128, epochs=3,\n",
        "    validation_data=([x_test_1,x_test_2],Y_test))\n"
      ],
      "execution_count": null,
      "outputs": [
        {
          "output_type": "stream",
          "text": [
            "Epoch 1/3\n",
            "24151/24161 [============================>.] - ETA: 0s - loss: 2.2063e-04 - mae: 0.0087WARNING:tensorflow:Model was constructed with shape (None, 12) for input Tensor(\"input_12:0\", shape=(None, 12), dtype=float32), but it was called on an input with incompatible shape (None, 13).\n",
            "24161/24161 [==============================] - 27s 1ms/step - loss: 2.2064e-04 - mae: 0.0087 - val_loss: 2.7034e-04 - val_mae: 0.0098\n",
            "Epoch 2/3\n",
            "24161/24161 [==============================] - 28s 1ms/step - loss: 2.1828e-04 - mae: 0.0086 - val_loss: 2.8186e-04 - val_mae: 0.0094\n",
            "Epoch 3/3\n",
            "24161/24161 [==============================] - 30s 1ms/step - loss: 2.1826e-04 - mae: 0.0086 - val_loss: 2.7521e-04 - val_mae: 0.0094\n"
          ],
          "name": "stdout"
        }
      ]
    },
    {
      "cell_type": "code",
      "metadata": {
        "id": "BHRv8-K-8i12",
        "outputId": "f205b8ae-a11a-4fd6-f834-06d97c4a216d",
        "colab": {
          "base_uri": "https://localhost:8080/",
          "height": 689
        }
      },
      "source": [
        "\n",
        "input1= Input(shape=(1,))\n",
        "embed_layer= Embedding(input_dim= 274, input_length=1, \n",
        "                       output_dim=16, name='station-id-lookup')(input1)\n",
        "flatten_layer=Flatten()(embed_layer)\n",
        "\n",
        "input2= Input(shape=(12,))\n",
        "combine = concatenate([flatten_layer, input2])\n",
        "\n",
        "hidden_layer1= Dense(64, activation='relu')(combine)\n",
        "hidden_layer2= Dense(32, activation='relu')(hidden_layer1)\n",
        "hidden_layer3= Dense(10, activation='relu')(hidden_layer2)\n",
        "output_layer = Dense(1, activation='linear')(hidden_layer3)\n",
        "\n",
        "# Create & compile model\n",
        "model3_OBS = Model(inputs = [input1,input2], outputs=output_layer)\n",
        "model3_OBS.compile(optimizer='adam', loss='mse', metrics='mae')\n",
        "\n",
        "\n",
        "# Trener modellen:\n",
        "history = model3_OBS.fit([x_train_1, x_train_2], Y_train, \n",
        "    batch_size=128, epochs=20, \n",
        "    validation_data=([x_test_1,x_test_2],Y_test))\n"
      ],
      "execution_count": null,
      "outputs": [
        {
          "output_type": "stream",
          "text": [
            "Epoch 1/20\n",
            "24161/24161 [==============================] - 38s 2ms/step - loss: 8.4403 - mae: 1.4647 - val_loss: 11.9297 - val_mae: 2.0526\n",
            "Epoch 2/20\n",
            "24161/24161 [==============================] - 37s 2ms/step - loss: 6.7510 - mae: 1.3011 - val_loss: 15.6240 - val_mae: 2.2281\n",
            "Epoch 3/20\n",
            "24161/24161 [==============================] - 37s 2ms/step - loss: 6.2682 - mae: 1.2531 - val_loss: 13.3831 - val_mae: 2.1134\n",
            "Epoch 4/20\n",
            "24161/24161 [==============================] - 37s 2ms/step - loss: 6.0432 - mae: 1.2287 - val_loss: 15.7936 - val_mae: 2.1817\n",
            "Epoch 5/20\n",
            "24161/24161 [==============================] - 38s 2ms/step - loss: 5.8884 - mae: 1.2113 - val_loss: 12.9111 - val_mae: 2.0491\n",
            "Epoch 6/20\n",
            "24161/24161 [==============================] - 38s 2ms/step - loss: 5.7631 - mae: 1.1979 - val_loss: 14.4553 - val_mae: 2.1479\n",
            "Epoch 7/20\n",
            "24161/24161 [==============================] - 38s 2ms/step - loss: 5.6745 - mae: 1.1878 - val_loss: 13.6544 - val_mae: 2.1227\n",
            "Epoch 8/20\n",
            "24161/24161 [==============================] - 37s 2ms/step - loss: 5.5930 - mae: 1.1805 - val_loss: 12.8703 - val_mae: 2.0778\n",
            "Epoch 9/20\n",
            "24161/24161 [==============================] - 37s 2ms/step - loss: 5.5406 - mae: 1.1743 - val_loss: 12.7699 - val_mae: 2.0182\n",
            "Epoch 10/20\n",
            "24161/24161 [==============================] - 37s 2ms/step - loss: 5.4820 - mae: 1.1687 - val_loss: 19.1903 - val_mae: 2.4144\n",
            "Epoch 11/20\n",
            "24161/24161 [==============================] - 38s 2ms/step - loss: 5.4287 - mae: 1.1630 - val_loss: 15.4288 - val_mae: 2.1941\n",
            "Epoch 12/20\n",
            "24161/24161 [==============================] - 38s 2ms/step - loss: 5.3827 - mae: 1.1593 - val_loss: 11.5295 - val_mae: 1.9014\n",
            "Epoch 13/20\n",
            "24161/24161 [==============================] - 39s 2ms/step - loss: 5.3504 - mae: 1.1566 - val_loss: 12.6885 - val_mae: 2.0669\n",
            "Epoch 14/20\n",
            "24161/24161 [==============================] - 39s 2ms/step - loss: 5.3116 - mae: 1.1530 - val_loss: 13.8289 - val_mae: 2.0918\n",
            "Epoch 15/20\n",
            "24161/24161 [==============================] - 38s 2ms/step - loss: 5.2921 - mae: 1.1498 - val_loss: 12.0385 - val_mae: 1.9790\n",
            "Epoch 16/20\n",
            "24161/24161 [==============================] - 37s 2ms/step - loss: 5.2546 - mae: 1.1483 - val_loss: 11.6090 - val_mae: 1.9471\n",
            "Epoch 17/20\n",
            "24161/24161 [==============================] - 37s 2ms/step - loss: 5.2335 - mae: 1.1459 - val_loss: 10.4802 - val_mae: 1.8569\n",
            "Epoch 18/20\n",
            "24161/24161 [==============================] - 38s 2ms/step - loss: 5.2083 - mae: 1.1431 - val_loss: 13.1889 - val_mae: 2.1568\n",
            "Epoch 19/20\n",
            "24161/24161 [==============================] - 38s 2ms/step - loss: 5.1931 - mae: 1.1428 - val_loss: 11.4837 - val_mae: 1.9817\n",
            "Epoch 20/20\n",
            "24161/24161 [==============================] - 37s 2ms/step - loss: 5.1734 - mae: 1.1405 - val_loss: 12.2245 - val_mae: 1.9989\n"
          ],
          "name": "stdout"
        }
      ]
    },
    {
      "cell_type": "markdown",
      "metadata": {
        "id": "i84_YLKrK3Qa"
      },
      "source": [
        "Plotter loss vs mae"
      ]
    },
    {
      "cell_type": "code",
      "metadata": {
        "id": "yfnVMXH8EDrf",
        "outputId": "b86cbfcc-5e8d-4671-f5b1-277391cde7ee",
        "colab": {
          "base_uri": "https://localhost:8080/",
          "height": 513
        }
      },
      "source": [
        "# make each plot seperatly \n",
        "plt.plot(history.history['loss'], label='train_loss')\n",
        "plt.plot(history.history['val_loss'], label='test loss')\n",
        "plt.legend(loc='upper right')\n",
        "plt.show()\n",
        "\n",
        "# make each plot seperatly \n",
        "plt.plot(history.history['mae'], label='Train Mean Absolute Error')\n",
        "plt.plot(history.history['val_mae'], label='Mean Absolute Error')\n",
        "plt.legend(loc='upper right')\n",
        "plt.show()\n"
      ],
      "execution_count": null,
      "outputs": [
        {
          "output_type": "display_data",
          "data": {
            "image/png": "[encoded data removed]",
            "text/plain": [
              "<Figure size 432x288 with 1 Axes>"
            ]
          },
          "metadata": {
            "tags": [],
            "needs_background": "light"
          }
        },
        {
          "output_type": "display_data",
          "data": {
            "image/png": "[encoded data removed]",
            "text/plain": [
              "<Figure size 432x288 with 1 Axes>"
            ]
          },
          "metadata": {
            "tags": [],
            "needs_background": "light"
          }
        }
      ]
    },
    {
      "cell_type": "code",
      "metadata": {
        "id": "e8mrh6uwmw2P"
      },
      "source": [
        "# Make predictions!\n",
        "\n",
        "y_test_pred = model3_OBS.predict([x_test_1, x_test_2])\n",
        "\n"
      ],
      "execution_count": null,
      "outputs": []
    },
    {
      "cell_type": "code",
      "metadata": {
        "id": "SJZ2OUL5oi6T",
        "outputId": "ddae3307-6bd7-4c83-c75c-2482b824d313",
        "colab": {
          "base_uri": "https://localhost:8080/",
          "height": 258
        }
      },
      "source": [
        "# All data vs predicted data for test:\n",
        "plt.figure(figsize=(15,3))\n",
        "plt.title(\"Prediction vs actual data\")\n",
        "plt.xlabel(\"Time\")\n",
        "plt.ylabel(\"Count of biketrips\")\n",
        "plt.plot(df_all.index, df_all['all_trips'])\n",
        "plt.plot(x_test.index, y_test_pred, label=\"prediction\")"
      ],
      "execution_count": null,
      "outputs": [
        {
          "output_type": "execute_result",
          "data": {
            "text/plain": [
              "[<matplotlib.lines.Line2D at 0x7fb76fb29668>]"
            ]
          },
          "metadata": {
            "tags": []
          },
          "execution_count": 74
        },
        {
          "output_type": "display_data",
          "data": {
            "image/png": "[encoded data removed]",
            "text/plain": [
              "<Figure size 1080x216 with 1 Axes>"
            ]
          },
          "metadata": {
            "tags": [],
            "needs_background": "light"
          }
        }
      ]
    },
    {
      "cell_type": "code",
      "metadata": {
        "id": "8KFRlA6XpTN9",
        "outputId": "948ab8c1-d9fd-4e48-ea3c-c5068a09eff2",
        "colab": {
          "base_uri": "https://localhost:8080/",
          "height": 258
        }
      },
      "source": [
        "plt.figure(figsize=(15,3))\n",
        "plt.title(\"Neural network: Prediction vs test\")\n",
        "plt.xlabel(\"Time\")\n",
        "plt.ylabel(\"Count of biketrips\")\n",
        "plt.plot(x_test.index, y_test, label='test')\n",
        "plt.plot(x_test.index, y_test_pred, label=\"prediction\")"
      ],
      "execution_count": null,
      "outputs": [
        {
          "output_type": "execute_result",
          "data": {
            "text/plain": [
              "[<matplotlib.lines.Line2D at 0x7fb770cfb710>]"
            ]
          },
          "metadata": {
            "tags": []
          },
          "execution_count": 73
        },
        {
          "output_type": "display_data",
          "data": {
            "image/png": "[encoded data removed]",
            "text/plain": [
              "<Figure size 1080x216 with 1 Axes>"
            ]
          },
          "metadata": {
            "tags": [],
            "needs_background": "light"
          }
        }
      ]
    }
  ]
}